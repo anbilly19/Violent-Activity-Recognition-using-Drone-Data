{
 "cells": [
  {
   "cell_type": "code",
   "execution_count": 1,
   "metadata": {},
   "outputs": [
    {
     "name": "stderr",
     "output_type": "stream",
     "text": [
      "Using TensorFlow backend.\n"
     ]
    }
   ],
   "source": [
    "import numpy as np\n",
    "import pandas as pd\n",
    "from keras.preprocessing.image import ImageDataGenerator\n",
    "from keras.models import Model\n",
    "from keras.layers import Input, Flatten, Dense\n",
    "from keras.callbacks import Callback, ModelCheckpoint\n",
    "from keras.applications.vgg16 import VGG16\n",
    "from keras.preprocessing import image\n",
    "from keras.applications.vgg16 import preprocess_input"
   ]
  },
  {
   "cell_type": "code",
   "execution_count": 2,
   "metadata": {},
   "outputs": [
    {
     "name": "stdout",
     "output_type": "stream",
     "text": [
      "WARNING:tensorflow:From /usr/local/lib/python3.6/dist-packages/tensorflow/python/framework/op_def_library.py:263: colocate_with (from tensorflow.python.framework.ops) is deprecated and will be removed in a future version.\n",
      "Instructions for updating:\n",
      "Colocations handled automatically by placer.\n"
     ]
    }
   ],
   "source": [
    "model_vgg16_conv = VGG16(weights='imagenet', include_top=False)"
   ]
  },
  {
   "cell_type": "code",
   "execution_count": 3,
   "metadata": {},
   "outputs": [],
   "source": [
    "for layer in model_vgg16_conv.layers:\n",
    "    layer.trainable = False"
   ]
  },
  {
   "cell_type": "code",
   "execution_count": 4,
   "metadata": {},
   "outputs": [],
   "source": [
    "img_width, img_height = 150, 150\n",
    "train_data_dir = 'Train'\n",
    "val_data_dir = 'Test'\n",
    "model_weights_file = 'vgg16-xfer-weights.h5'\n",
    "nb_train_samples = 4\n",
    "nb_val_samples = 4\n",
    "nb_epochs = 20"
   ]
  },
  {
   "cell_type": "code",
   "execution_count": 13,
   "metadata": {},
   "outputs": [
    {
     "name": "stderr",
     "output_type": "stream",
     "text": [
      "/usr/local/lib/python3.6/dist-packages/ipykernel_launcher.py:6: UserWarning: Update your `Model` call to the Keras 2 API: `Model(inputs=Tensor(\"in..., outputs=Tensor(\"de...)`\n",
      "  \n"
     ]
    }
   ],
   "source": [
    "input = Input(shape=(img_width, img_height, 3))\n",
    "output_vgg16_conv = model_vgg16_conv(input)\n",
    "x = Flatten()(output_vgg16_conv)\n",
    "x = Dense(64, activation='relu')(x)\n",
    "x = Dense(14, activation='linear')(x)\n",
    "model = Model(input=input, output=x)\n",
    "\n",
    "model.compile(loss='mean_squared_error', optimizer='rmsprop', metrics=['mean_squared_error'])"
   ]
  },
  {
   "cell_type": "code",
   "execution_count": 14,
   "metadata": {},
   "outputs": [
    {
     "name": "stdout",
     "output_type": "stream",
     "text": [
      "_________________________________________________________________\n",
      "Layer (type)                 Output Shape              Param #   \n",
      "=================================================================\n",
      "input_3 (InputLayer)         (None, 150, 150, 3)       0         \n",
      "_________________________________________________________________\n",
      "vgg16 (Model)                multiple                  14714688  \n",
      "_________________________________________________________________\n",
      "flatten_2 (Flatten)          (None, 8192)              0         \n",
      "_________________________________________________________________\n",
      "dense_3 (Dense)              (None, 64)                524352    \n",
      "_________________________________________________________________\n",
      "dense_4 (Dense)              (None, 14)                910       \n",
      "=================================================================\n",
      "Total params: 15,239,950\n",
      "Trainable params: 525,262\n",
      "Non-trainable params: 14,714,688\n",
      "_________________________________________________________________\n"
     ]
    }
   ],
   "source": [
    "model.summary()"
   ]
  },
  {
   "cell_type": "code",
   "execution_count": 7,
   "metadata": {},
   "outputs": [],
   "source": [
    "import glob \n",
    "import cv2\n",
    "filenames = [img for img in glob.glob(\"/home/divyaansh/Downloads/CNN_Transfer_Learning_Capstone /Train/fall/*.jpg\")]\n",
    "\n",
    "filenames.sort() # ADD THIS LINE\n",
    "\n",
    "images = []\n",
    "for img in filenames:\n",
    "    n= cv2.imread(img)\n",
    "    newimg = cv2.resize(n,(img_width, img_height))\n",
    "    images.append(newimg)"
   ]
  },
  {
   "cell_type": "code",
   "execution_count": 8,
   "metadata": {},
   "outputs": [
    {
     "data": {
      "text/plain": [
       "array([[ 95,  89,  69, 119, 128, 150,  52, 141,   8,  89,  90, 144,   6,\n",
       "         36],\n",
       "       [ 83, 146,  10, 146, 115, 128,  33,  98,  57,   9,  58,  24, 109,\n",
       "         92],\n",
       "       [ 83,  43,  83,  87,  32,  85, 148,  29,  63,  90, 125, 150,  60,\n",
       "        103],\n",
       "       [ 25, 125, 135, 147,  98,  70,  38,  57, 121,  90,  60,  50, 128,\n",
       "         45],\n",
       "       [  4,  30,  50,  15,  89,   8, 116,  97, 106,  52,  68,  57,  10,\n",
       "         93],\n",
       "       [115,  60,  53,  53,  28,  28,  99,  87,  76,  22,  63,  84,  56,\n",
       "         86],\n",
       "       [ 34,  41,  16,  57, 132, 121,  52,  25,  31,  88,  85,  61,  57,\n",
       "         52],\n",
       "       [100,  18,  32,   6,  29,  39,  52,   8, 143,  42,  78,  90,  43,\n",
       "         97],\n",
       "       [137,  83,  13,  19,  86,  59, 142, 148,  31, 137,  63, 114,   2,\n",
       "         59],\n",
       "       [109,   2, 132,  25, 105,  17,  68, 136,  61,  73, 145,  32,  77,\n",
       "         37],\n",
       "       [ 87,  21, 140, 139,  47, 127,  25,  33, 110,  38,  33, 116,  72,\n",
       "         31]])"
      ]
     },
     "execution_count": 8,
     "metadata": {},
     "output_type": "execute_result"
    }
   ],
   "source": [
    "import random\n",
    "y = [0]*len(images)\n",
    "for i in range(len(images)):\n",
    "    a = []\n",
    "    for j in range(14):\n",
    "        a.append(random.randint(1,150))\n",
    "    y[i] = a\n",
    "y = np.asarray(y)\n",
    "y"
   ]
  },
  {
   "cell_type": "code",
   "execution_count": 9,
   "metadata": {},
   "outputs": [],
   "source": [
    "X = images.copy()\n",
    "X = np.asarray(X)"
   ]
  },
  {
   "cell_type": "code",
   "execution_count": 15,
   "metadata": {},
   "outputs": [
    {
     "name": "stderr",
     "output_type": "stream",
     "text": [
      "/usr/local/lib/python3.6/dist-packages/ipykernel_launcher.py:1: UserWarning: The `nb_epoch` argument in `fit` has been renamed `epochs`.\n",
      "  \"\"\"Entry point for launching an IPython kernel.\n"
     ]
    },
    {
     "name": "stdout",
     "output_type": "stream",
     "text": [
      "Epoch 1/100\n",
      "11/11 [==============================] - 2s 208ms/step - loss: 8069.4004 - mean_squared_error: 8069.4004\n",
      "Epoch 2/100\n",
      "11/11 [==============================] - 2s 188ms/step - loss: 5587.1084 - mean_squared_error: 5587.1084\n",
      "Epoch 3/100\n",
      "11/11 [==============================] - 2s 188ms/step - loss: 3790.0244 - mean_squared_error: 3790.0244\n",
      "Epoch 4/100\n",
      "11/11 [==============================] - 2s 188ms/step - loss: 2311.5447 - mean_squared_error: 2311.5447\n",
      "Epoch 5/100\n",
      "11/11 [==============================] - 2s 187ms/step - loss: 1923.8539 - mean_squared_error: 1923.8539\n",
      "Epoch 6/100\n",
      "11/11 [==============================] - 2s 187ms/step - loss: 1494.7618 - mean_squared_error: 1494.7618\n",
      "Epoch 7/100\n",
      "11/11 [==============================] - 2s 187ms/step - loss: 1231.9165 - mean_squared_error: 1231.9165\n",
      "Epoch 8/100\n",
      "11/11 [==============================] - 2s 189ms/step - loss: 1130.4426 - mean_squared_error: 1130.4426\n",
      "Epoch 9/100\n",
      "11/11 [==============================] - 2s 187ms/step - loss: 1208.0962 - mean_squared_error: 1208.0962\n",
      "Epoch 10/100\n",
      "11/11 [==============================] - 2s 188ms/step - loss: 979.3199 - mean_squared_error: 979.3199\n",
      "Epoch 11/100\n",
      "11/11 [==============================] - 2s 187ms/step - loss: 910.2797 - mean_squared_error: 910.2797\n",
      "Epoch 12/100\n",
      "11/11 [==============================] - 2s 189ms/step - loss: 799.8943 - mean_squared_error: 799.8943\n",
      "Epoch 13/100\n",
      "11/11 [==============================] - 2s 191ms/step - loss: 731.0225 - mean_squared_error: 731.0225\n",
      "Epoch 14/100\n",
      "11/11 [==============================] - 2s 187ms/step - loss: 706.6783 - mean_squared_error: 706.6783\n",
      "Epoch 15/100\n",
      "11/11 [==============================] - 2s 188ms/step - loss: 733.0896 - mean_squared_error: 733.0896\n",
      "Epoch 16/100\n",
      "11/11 [==============================] - 2s 188ms/step - loss: 772.8508 - mean_squared_error: 772.8508\n",
      "Epoch 17/100\n",
      "11/11 [==============================] - 2s 187ms/step - loss: 855.3547 - mean_squared_error: 855.3547\n",
      "Epoch 18/100\n",
      "11/11 [==============================] - 2s 188ms/step - loss: 854.3950 - mean_squared_error: 854.3950\n",
      "Epoch 19/100\n",
      "11/11 [==============================] - 2s 189ms/step - loss: 766.8285 - mean_squared_error: 766.8285\n",
      "Epoch 20/100\n",
      "11/11 [==============================] - 2s 188ms/step - loss: 698.2573 - mean_squared_error: 698.2573\n",
      "Epoch 21/100\n",
      "11/11 [==============================] - 2s 187ms/step - loss: 614.9281 - mean_squared_error: 614.9281\n",
      "Epoch 22/100\n",
      "11/11 [==============================] - 2s 187ms/step - loss: 603.9521 - mean_squared_error: 603.9521\n",
      "Epoch 23/100\n",
      "11/11 [==============================] - 2s 187ms/step - loss: 619.3802 - mean_squared_error: 619.3802\n",
      "Epoch 24/100\n",
      "11/11 [==============================] - 2s 188ms/step - loss: 653.4103 - mean_squared_error: 653.4103\n",
      "Epoch 25/100\n",
      "11/11 [==============================] - 2s 187ms/step - loss: 569.6967 - mean_squared_error: 569.6967\n",
      "Epoch 26/100\n",
      "11/11 [==============================] - 2s 187ms/step - loss: 532.0563 - mean_squared_error: 532.0563\n",
      "Epoch 27/100\n",
      "11/11 [==============================] - 2s 187ms/step - loss: 508.2524 - mean_squared_error: 508.2524\n",
      "Epoch 28/100\n",
      "11/11 [==============================] - 2s 187ms/step - loss: 494.5508 - mean_squared_error: 494.5508\n",
      "Epoch 29/100\n",
      "11/11 [==============================] - 2s 189ms/step - loss: 464.7783 - mean_squared_error: 464.7783\n",
      "Epoch 30/100\n",
      "11/11 [==============================] - 2s 188ms/step - loss: 467.1423 - mean_squared_error: 467.1423\n",
      "Epoch 31/100\n",
      "11/11 [==============================] - 2s 186ms/step - loss: 470.4198 - mean_squared_error: 470.4198\n",
      "Epoch 32/100\n",
      "11/11 [==============================] - 2s 185ms/step - loss: 530.4324 - mean_squared_error: 530.4324\n",
      "Epoch 33/100\n",
      "11/11 [==============================] - 2s 187ms/step - loss: 605.7302 - mean_squared_error: 605.7302\n",
      "Epoch 34/100\n",
      "11/11 [==============================] - 2s 187ms/step - loss: 580.4440 - mean_squared_error: 580.4440\n",
      "Epoch 35/100\n",
      "11/11 [==============================] - 2s 186ms/step - loss: 487.6148 - mean_squared_error: 487.6148\n",
      "Epoch 36/100\n",
      "11/11 [==============================] - 2s 187ms/step - loss: 426.2323 - mean_squared_error: 426.2323\n",
      "Epoch 37/100\n",
      "11/11 [==============================] - 2s 187ms/step - loss: 370.7899 - mean_squared_error: 370.7899\n",
      "Epoch 38/100\n",
      "11/11 [==============================] - 2s 189ms/step - loss: 352.1655 - mean_squared_error: 352.1655\n",
      "Epoch 39/100\n",
      "11/11 [==============================] - 2s 188ms/step - loss: 351.7359 - mean_squared_error: 351.7359\n",
      "Epoch 40/100\n",
      "11/11 [==============================] - 2s 195ms/step - loss: 354.0359 - mean_squared_error: 354.0359\n",
      "Epoch 41/100\n",
      "11/11 [==============================] - 2s 187ms/step - loss: 362.5576 - mean_squared_error: 362.5576\n",
      "Epoch 42/100\n",
      "11/11 [==============================] - 2s 187ms/step - loss: 376.2204 - mean_squared_error: 376.2204\n",
      "Epoch 43/100\n",
      "11/11 [==============================] - 2s 186ms/step - loss: 381.7496 - mean_squared_error: 381.7496\n",
      "Epoch 44/100\n",
      "11/11 [==============================] - 2s 187ms/step - loss: 397.6189 - mean_squared_error: 397.6189\n",
      "Epoch 45/100\n",
      "11/11 [==============================] - 2s 187ms/step - loss: 466.4507 - mean_squared_error: 466.4507\n",
      "Epoch 46/100\n",
      "11/11 [==============================] - 2s 186ms/step - loss: 469.7220 - mean_squared_error: 469.7220\n",
      "Epoch 47/100\n",
      "11/11 [==============================] - 2s 187ms/step - loss: 489.0212 - mean_squared_error: 489.0212\n",
      "Epoch 48/100\n",
      "11/11 [==============================] - 2s 191ms/step - loss: 303.7907 - mean_squared_error: 303.7907\n",
      "Epoch 49/100\n",
      "11/11 [==============================] - 2s 189ms/step - loss: 253.5939 - mean_squared_error: 253.5939\n",
      "Epoch 50/100\n",
      "11/11 [==============================] - 2s 187ms/step - loss: 230.4466 - mean_squared_error: 230.4466\n",
      "Epoch 51/100\n",
      "11/11 [==============================] - 2s 187ms/step - loss: 221.8009 - mean_squared_error: 221.8009\n",
      "Epoch 52/100\n",
      "11/11 [==============================] - 2s 188ms/step - loss: 256.8714 - mean_squared_error: 256.8714\n",
      "Epoch 53/100\n",
      "11/11 [==============================] - 3s 228ms/step - loss: 360.9011 - mean_squared_error: 360.9011\n",
      "Epoch 54/100\n",
      "11/11 [==============================] - 2s 189ms/step - loss: 536.2360 - mean_squared_error: 536.2360\n",
      "Epoch 55/100\n",
      "11/11 [==============================] - 2s 187ms/step - loss: 612.7380 - mean_squared_error: 612.7380\n",
      "Epoch 56/100\n",
      "11/11 [==============================] - 2s 186ms/step - loss: 357.1134 - mean_squared_error: 357.1134\n",
      "Epoch 57/100\n",
      "11/11 [==============================] - 2s 186ms/step - loss: 242.6991 - mean_squared_error: 242.6991\n",
      "Epoch 58/100\n",
      "11/11 [==============================] - 2s 189ms/step - loss: 183.9353 - mean_squared_error: 183.9353\n",
      "Epoch 59/100\n",
      "11/11 [==============================] - 2s 187ms/step - loss: 166.1275 - mean_squared_error: 166.1275\n",
      "Epoch 60/100\n",
      "11/11 [==============================] - 2s 185ms/step - loss: 160.0421 - mean_squared_error: 160.0421\n",
      "Epoch 61/100\n",
      "11/11 [==============================] - 2s 186ms/step - loss: 169.4771 - mean_squared_error: 169.4771\n",
      "Epoch 62/100\n",
      "11/11 [==============================] - 2s 189ms/step - loss: 208.8859 - mean_squared_error: 208.8859\n",
      "Epoch 63/100\n",
      "11/11 [==============================] - 2s 195ms/step - loss: 256.4149 - mean_squared_error: 256.4149\n",
      "Epoch 64/100\n",
      "11/11 [==============================] - 2s 188ms/step - loss: 345.7425 - mean_squared_error: 345.7425\n",
      "Epoch 65/100\n",
      "11/11 [==============================] - 2s 194ms/step - loss: 390.9504 - mean_squared_error: 390.9504\n",
      "Epoch 66/100\n",
      "11/11 [==============================] - 2s 187ms/step - loss: 371.0938 - mean_squared_error: 371.0938\n",
      "Epoch 67/100\n",
      "11/11 [==============================] - 2s 187ms/step - loss: 301.1960 - mean_squared_error: 301.1960\n",
      "Epoch 68/100\n",
      "11/11 [==============================] - 2s 187ms/step - loss: 282.0431 - mean_squared_error: 282.0431\n",
      "Epoch 69/100\n",
      "11/11 [==============================] - 2s 187ms/step - loss: 291.6151 - mean_squared_error: 291.6151\n",
      "Epoch 70/100\n",
      "11/11 [==============================] - 2s 187ms/step - loss: 277.0504 - mean_squared_error: 277.0504\n",
      "Epoch 71/100\n",
      "11/11 [==============================] - 2s 187ms/step - loss: 238.7555 - mean_squared_error: 238.7555\n"
     ]
    },
    {
     "name": "stdout",
     "output_type": "stream",
     "text": [
      "Epoch 72/100\n",
      "11/11 [==============================] - 2s 187ms/step - loss: 205.3268 - mean_squared_error: 205.3268\n",
      "Epoch 73/100\n",
      "11/11 [==============================] - 2s 186ms/step - loss: 182.7239 - mean_squared_error: 182.7239\n",
      "Epoch 74/100\n",
      "11/11 [==============================] - 2s 187ms/step - loss: 180.6495 - mean_squared_error: 180.6495\n",
      "Epoch 75/100\n",
      "11/11 [==============================] - 2s 185ms/step - loss: 226.5247 - mean_squared_error: 226.5247\n",
      "Epoch 76/100\n",
      "11/11 [==============================] - 2s 185ms/step - loss: 261.1285 - mean_squared_error: 261.1285\n",
      "Epoch 77/100\n",
      "11/11 [==============================] - 2s 186ms/step - loss: 337.6735 - mean_squared_error: 337.6735\n",
      "Epoch 78/100\n",
      "11/11 [==============================] - 2s 186ms/step - loss: 353.5440 - mean_squared_error: 353.5440\n",
      "Epoch 79/100\n",
      "11/11 [==============================] - 2s 185ms/step - loss: 314.8650 - mean_squared_error: 314.8650\n",
      "Epoch 80/100\n",
      "11/11 [==============================] - 2s 186ms/step - loss: 234.7305 - mean_squared_error: 234.7305\n",
      "Epoch 81/100\n",
      "11/11 [==============================] - 2s 186ms/step - loss: 195.1044 - mean_squared_error: 195.1044\n",
      "Epoch 82/100\n",
      "11/11 [==============================] - 2s 186ms/step - loss: 163.3608 - mean_squared_error: 163.3608\n",
      "Epoch 83/100\n",
      "11/11 [==============================] - 2s 186ms/step - loss: 169.1641 - mean_squared_error: 169.1641\n",
      "Epoch 84/100\n",
      "11/11 [==============================] - 2s 186ms/step - loss: 167.9420 - mean_squared_error: 167.9420\n",
      "Epoch 85/100\n",
      "11/11 [==============================] - 2s 185ms/step - loss: 201.0607 - mean_squared_error: 201.0607\n",
      "Epoch 86/100\n",
      "11/11 [==============================] - 2s 185ms/step - loss: 181.2128 - mean_squared_error: 181.2128\n",
      "Epoch 87/100\n",
      "11/11 [==============================] - 2s 185ms/step - loss: 185.4130 - mean_squared_error: 185.4130\n",
      "Epoch 88/100\n",
      "11/11 [==============================] - 2s 185ms/step - loss: 151.2984 - mean_squared_error: 151.2984\n",
      "Epoch 89/100\n",
      "11/11 [==============================] - 2s 186ms/step - loss: 146.4016 - mean_squared_error: 146.4016\n",
      "Epoch 90/100\n",
      "11/11 [==============================] - 2s 187ms/step - loss: 143.8128 - mean_squared_error: 143.8128\n",
      "Epoch 91/100\n",
      "11/11 [==============================] - 2s 192ms/step - loss: 162.6987 - mean_squared_error: 162.6987\n",
      "Epoch 92/100\n",
      "11/11 [==============================] - 2s 185ms/step - loss: 181.7943 - mean_squared_error: 181.7943\n",
      "Epoch 93/100\n",
      "11/11 [==============================] - 2s 187ms/step - loss: 200.7590 - mean_squared_error: 200.7590\n",
      "Epoch 94/100\n",
      "11/11 [==============================] - 2s 186ms/step - loss: 220.0609 - mean_squared_error: 220.0609\n",
      "Epoch 95/100\n",
      "11/11 [==============================] - 2s 186ms/step - loss: 198.1559 - mean_squared_error: 198.1559\n",
      "Epoch 96/100\n",
      "11/11 [==============================] - 2s 188ms/step - loss: 185.2932 - mean_squared_error: 185.2932\n",
      "Epoch 97/100\n",
      "11/11 [==============================] - 2s 187ms/step - loss: 170.0909 - mean_squared_error: 170.0909\n",
      "Epoch 98/100\n",
      "11/11 [==============================] - 2s 187ms/step - loss: 168.0669 - mean_squared_error: 168.0669\n",
      "Epoch 99/100\n",
      "11/11 [==============================] - 2s 206ms/step - loss: 160.9914 - mean_squared_error: 160.9914\n",
      "Epoch 100/100\n",
      "11/11 [==============================] - 2s 188ms/step - loss: 164.6967 - mean_squared_error: 164.6967\n"
     ]
    },
    {
     "data": {
      "text/plain": [
       "<keras.callbacks.History at 0x7f80e40a6048>"
      ]
     },
     "execution_count": 15,
     "metadata": {},
     "output_type": "execute_result"
    }
   ],
   "source": [
    "model.fit(X,y,nb_epoch=100)"
   ]
  },
  {
   "cell_type": "code",
   "execution_count": null,
   "metadata": {},
   "outputs": [],
   "source": []
  }
 ],
 "metadata": {
  "kernelspec": {
   "display_name": "Python 3",
   "language": "python",
   "name": "python3"
  },
  "language_info": {
   "codemirror_mode": {
    "name": "ipython",
    "version": 3
   },
   "file_extension": ".py",
   "mimetype": "text/x-python",
   "name": "python",
   "nbconvert_exporter": "python",
   "pygments_lexer": "ipython3",
   "version": "3.6.8"
  }
 },
 "nbformat": 4,
 "nbformat_minor": 2
}
